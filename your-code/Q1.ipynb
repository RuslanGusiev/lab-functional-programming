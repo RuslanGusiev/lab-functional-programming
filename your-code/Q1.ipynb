{
 "cells": [
  {
   "cell_type": "markdown",
   "metadata": {},
   "source": [
    "In the cell below, create a Python function that wraps your previous solution for the Bag of Words lab.\n",
    "\n",
    "Requirements:\n",
    "\n",
    "1. Your function should accept the following parameters:\n",
    "    * `docs` [REQUIRED] - array of document paths.\n",
    "    * `stop_words` [OPTIONAL] - array of stop words. The default value is an empty array.\n",
    "\n",
    "1. Your function should return a Python object that contains the following:\n",
    "    * `bag_of_words` - array of strings of normalized unique words in the corpus.\n",
    "    * `term_freq` - array of the term-frequency vectors."
   ]
  },
  {
   "cell_type": "code",
   "execution_count": 21,
   "metadata": {},
   "outputs": [
    {
     "data": {
      "text/plain": [
       "{'bag_of_words': ['ironhack',\n",
       "  'is',\n",
       "  'cool',\n",
       "  'i',\n",
       "  'love',\n",
       "  'am',\n",
       "  'a',\n",
       "  'student',\n",
       "  'at'],\n",
       " 'term_freq': [[1, 1, 1, 0, 0, 0, 0, 0, 0],\n",
       "  [1, 0, 0, 1, 1, 0, 0, 0, 0],\n",
       "  [1, 0, 0, 1, 0, 1, 1, 1, 1]]}"
      ]
     },
     "execution_count": 21,
     "metadata": {},
     "output_type": "execute_result"
    }
   ],
   "source": [
    "# Import required libraries\n",
    "import re\n",
    "import os\n",
    "\n",
    "path = os.getcwd() # current directory\n",
    "docs = [f for f in os.listdir(path) if f.endswith('.txt')] # create file list ['doc1.txt', 'doc2.txt', 'doc3.txt']\n",
    "\n",
    "# Define function\n",
    "def get_bow_from_docs(docs, stop_words=['i']):\n",
    "    corpus = []\n",
    "    new_corpus = []\n",
    "    bag_of_words = []\n",
    "    term_freq = []\n",
    "    \n",
    "    for file in docs:\n",
    "        x = open(file, \"r\").read()\n",
    "        corpus.append(x) # record data from 3 txt files to list\n",
    "    \n",
    "    for text in corpus:\n",
    "        x = text.lower() \n",
    "        y = re.sub('[.]', '', x)\n",
    "        new_corpus.append(y)\n",
    "    \n",
    "    #create bag_of_words\n",
    "    \n",
    "    for i in new_corpus:\n",
    "        x = re.findall('[a-z]+', i)\n",
    "        for j in x:\n",
    "            if (j not in bag_of_words) and (j not in stop_words):\n",
    "                bag_of_words.append(j)\n",
    " \n",
    "    # create term_freq\n",
    "    \n",
    "    for i in new_corpus:\n",
    "        x = re.findall('[a-z]+', i)\n",
    "        new_list = []\n",
    "        for j in bag_of_words:\n",
    "            if j in x:\n",
    "                new_list.append(1)\n",
    "            else:\n",
    "                new_list.append(0)\n",
    "        term_freq.append(new_list)     \n",
    "    \n",
    "     #Now return your output as an object\n",
    "    return {\n",
    "        \"bag_of_words\": bag_of_words,\n",
    "        \"term_freq\": term_freq\n",
    "    }\n",
    "get_bow_from_docs(docs)"
   ]
  },
  {
   "cell_type": "markdown",
   "metadata": {},
   "source": [
    "Test your function without stop words. You should see the output like below:\n",
    "\n",
    "```{'bag_of_words': ['ironhack', 'is', 'cool', 'i', 'love', 'am', 'a', 'student', 'at'], 'term_freq': [[1, 1, 1, 0, 0, 0, 0, 0, 0], [1, 0, 0, 1, 1, 0, 0, 0, 0], [1, 0, 0, 1, 0, 1, 1, 1, 1]]}```"
   ]
  },
  {
   "cell_type": "code",
   "execution_count": 23,
   "metadata": {},
   "outputs": [
    {
     "name": "stdout",
     "output_type": "stream",
     "text": [
      "{'bag_of_words': ['ironhack', 'is', 'cool', 'i', 'love', 'am', 'a', 'student', 'at'], 'term_freq': [[1, 1, 1, 0, 0, 0, 0, 0, 0], [1, 0, 0, 1, 1, 0, 0, 0, 0], [1, 0, 0, 1, 0, 1, 1, 1, 1]]}\n"
     ]
    }
   ],
   "source": [
    "# Define doc paths array\n",
    "#path = os.getcwd()\n",
    "#docs = [f for f in os.listdir(path) if f.endswith('.txt')]\n",
    "\n",
    "#docs = [f for f in os.listdir('../your-code') if f.endswith('.txt')]\n",
    "#open(os.path.join('', \"r\").read()\n",
    "#print(docs)\n",
    "\n",
    "# Obtain BoW from your function\n",
    "bow = get_bow_from_docs(docs)\n",
    "\n",
    "# Print BoW\n",
    "print(bow)"
   ]
  },
  {
   "cell_type": "markdown",
   "metadata": {},
   "source": [
    "If your attempt above is successful, nice work done!\n",
    "\n",
    "Now test your function again with the stop words. In the previous lab we defined the stop words in a large array. In this lab, we'll import the stop words from Scikit-Learn."
   ]
  },
  {
   "cell_type": "code",
   "execution_count": 25,
   "metadata": {},
   "outputs": [
    {
     "name": "stdout",
     "output_type": "stream",
     "text": [
      "frozenset({'thus', 'full', 'would', 'few', 'none', 'others', 'often', 'no', 'whereby', 'one', 'since', 'whereafter', 'several', 'those', 'serious', 'neither', 'found', 'at', 'beyond', 'made', 'someone', 'always', 'hereupon', 'into', 'both', 'around', 'part', 'then', 'enough', 'do', 'mine', 'we', 'latterly', 'latter', 'get', 'off', 'another', 'against', 're', 'within', 'itself', 'whither', 'once', 'never', 'i', 'moreover', 'un', 'ours', 'twelve', 'sincere', 'almost', 'last', 'noone', 'its', 'will', 'every', 'a', 'our', 'am', 'couldnt', 'please', 'bottom', 'nevertheless', 'though', 'if', 'side', 'interest', 'six', 'hasnt', 'thereby', 'somewhere', 'much', 'everywhere', 'while', 'has', 'otherwise', 'former', 'during', 'everything', 'whenever', 'give', 'namely', 'very', 'onto', 'further', 'even', 'upon', 'along', 'throughout', 'beside', 'can', 'yourself', 'perhaps', 'done', 'besides', 'nowhere', 'other', 'him', 'this', 'there', 'twenty', 'three', 'through', 'some', 'you', 'all', 'sometimes', 'after', 'seeming', 'forty', 'together', 'whatever', 'which', 'it', 'me', 'anyway', 'eleven', 'therefore', 'over', 'herself', 'describe', 'eight', 'still', 'move', 'name', 'eg', 'everyone', 'that', 'thick', 'not', 'ever', 'thereafter', 'his', 'should', 'she', 'thence', 'have', 'sixty', 'must', 'before', 'system', 'down', 'anyone', 'and', 'therein', 'being', 'amount', 'could', 'across', 'yours', 'was', 'himself', 'first', 'under', 'fire', 'five', 'thereupon', 'formerly', 'they', 'etc', 'ltd', 'us', 'less', 'may', 'due', 'hereafter', 'same', 'whereupon', 'seems', 'empty', 'because', 'had', 'your', 'anything', 'however', 'so', 'con', 'about', 'fifteen', 'again', 'when', 'alone', 'else', 'becoming', 'next', 'themselves', 'keep', 'show', 'whereas', 'anyhow', 'toward', 'where', 'sometime', 'become', 'four', 'among', 'are', 'herein', 'inc', 'third', 'mostly', 'becomes', 'without', 'hence', 'cry', 'amoungst', 'an', 'up', 'front', 'what', 'wherever', 'on', 'cant', 'more', 'well', 'above', 'them', 'seem', 'something', 'ie', 'mill', 'might', 'now', 'amongst', 'out', 'between', 'also', 'beforehand', 'hereby', 'behind', 'such', 'see', 'per', 'whose', 'detail', 'he', 'became', 'many', 'be', 'anywhere', 'with', 'in', 'each', 'towards', 'indeed', 'wherein', 'whoever', 'meanwhile', 'most', 'or', 'nine', 'somehow', 'until', 'any', 'put', 'whence', 'ten', 'rather', 'only', 'nobody', 'yet', 'already', 'via', 'back', 'the', 'to', 'of', 'call', 'hundred', 'own', 'but', 'yourselves', 'too', 'bill', 'how', 'her', 'nor', 'who', 'co', 'top', 'although', 'here', 'two', 'go', 'afterwards', 'whom', 'seemed', 'my', 'than', 'as', 'for', 'de', 'thru', 'fill', 'these', 'find', 'whole', 'their', 'ourselves', 'why', 'cannot', 'myself', 'by', 'least', 'nothing', 'were', 'either', 'elsewhere', 'fifty', 'hers', 'take', 'below', 'except', 'been', 'from', 'thin', 'is', 'whether'})\n"
     ]
    }
   ],
   "source": [
    "from sklearn.feature_extraction import stop_words\n",
    "print(stop_words.ENGLISH_STOP_WORDS)"
   ]
  },
  {
   "cell_type": "markdown",
   "metadata": {},
   "source": [
    "You should have seen a large list of words that looks like:\n",
    "\n",
    "```frozenset({'across', 'mine', 'cannot', ...})```\n",
    "\n",
    "`frozenset` is a type of Python object that is immutable. In this lab you can use it just like an array without conversion."
   ]
  },
  {
   "cell_type": "markdown",
   "metadata": {},
   "source": [
    "Next, test your function with supplying `stop_words.ENGLISH_STOP_WORDS` as the second parameter."
   ]
  },
  {
   "cell_type": "code",
   "execution_count": 26,
   "metadata": {},
   "outputs": [
    {
     "name": "stdout",
     "output_type": "stream",
     "text": [
      "{'bag_of_words': ['ironhack', 'cool', 'love', 'student'], 'term_freq': [[1, 1, 0, 0], [1, 0, 1, 0], [1, 0, 0, 1]]}\n"
     ]
    }
   ],
   "source": [
    "bow = get_bow_from_docs(docs, stop_words.ENGLISH_STOP_WORDS)\n",
    "\n",
    "print(bow)"
   ]
  },
  {
   "cell_type": "markdown",
   "metadata": {},
   "source": [
    "You should have seen:\n",
    "\n",
    "```{'bag_of_words': ['ironhack', 'cool', 'love', 'student'], 'term_freq': [[1, 1, 0, 0], [1, 0, 1, 0], [1, 0, 0, 1]]}```"
   ]
  },
  {
   "cell_type": "code",
   "execution_count": null,
   "metadata": {},
   "outputs": [],
   "source": []
  }
 ],
 "metadata": {
  "kernelspec": {
   "display_name": "Python 3",
   "language": "python",
   "name": "python3"
  },
  "language_info": {
   "codemirror_mode": {
    "name": "ipython",
    "version": 3
   },
   "file_extension": ".py",
   "mimetype": "text/x-python",
   "name": "python",
   "nbconvert_exporter": "python",
   "pygments_lexer": "ipython3",
   "version": "3.7.3"
  }
 },
 "nbformat": 4,
 "nbformat_minor": 2
}
