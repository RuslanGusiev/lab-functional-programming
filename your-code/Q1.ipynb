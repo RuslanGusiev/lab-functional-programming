{
 "cells": [
  {
   "cell_type": "markdown",
   "metadata": {},
   "source": [
    "In the cell below, create a Python function that wraps your previous solution for the Bag of Words lab.\n",
    "\n",
    "Requirements:\n",
    "\n",
    "1. Your function should accept the following parameters:\n",
    "    * `docs` [REQUIRED] - array of document paths.\n",
    "    * `stop_words` [OPTIONAL] - array of stop words. The default value is an empty array.\n",
    "\n",
    "1. Your function should return a Python object that contains the following:\n",
    "    * `bag_of_words` - array of strings of normalized unique words in the corpus.\n",
    "    * `term_freq` - array of the term-frequency vectors."
   ]
  },
  {
   "cell_type": "code",
   "execution_count": 1,
   "metadata": {},
   "outputs": [
    {
     "data": {
      "text/plain": [
       "{'bag_of_words': ['ironhack',\n",
       "  'is',\n",
       "  'cool',\n",
       "  'am',\n",
       "  'a',\n",
       "  'student',\n",
       "  'at',\n",
       "  'love'],\n",
       " 'term_freq': [[1, 1, 1, 0, 0, 0, 0, 0],\n",
       "  [1, 0, 0, 1, 1, 1, 1, 0],\n",
       "  [1, 0, 0, 0, 0, 0, 0, 1]]}"
      ]
     },
     "execution_count": 1,
     "metadata": {},
     "output_type": "execute_result"
    }
   ],
   "source": [
    "# Import required libraries\n",
    "import re\n",
    "import os\n",
    "\n",
    "'''\n",
    "L.S. Well done! Function works well and looks good!\n",
    "'''\n",
    "\n",
    "path = os.getcwd() # current directory\n",
    "docs = [f for f in os.listdir(path) if f.endswith('.txt')] # create file list ['doc1.txt', 'doc2.txt', 'doc3.txt']\n",
    "\n",
    "# Define function\n",
    "def get_bow_from_docs(docs, stop_words=['i']):\n",
    "    corpus = []\n",
    "    new_corpus = []\n",
    "    bag_of_words = []\n",
    "    term_freq = []\n",
    "    \n",
    "    for file in docs:\n",
    "        x = open(file, \"r\").read()\n",
    "        corpus.append(x) # record data from 3 txt files to list\n",
    "    \n",
    "    for text in corpus:\n",
    "        x = text.lower() \n",
    "        y = re.sub('[.]', '', x)\n",
    "        new_corpus.append(y)\n",
    "    \n",
    "    #create bag_of_words\n",
    "    \n",
    "    for i in new_corpus:\n",
    "        x = re.findall('[a-z]+', i)\n",
    "        for j in x:\n",
    "            if (j not in bag_of_words) and (j not in stop_words):\n",
    "                bag_of_words.append(j)\n",
    " \n",
    "    # create term_freq\n",
    "    \n",
    "    for i in new_corpus:\n",
    "        x = re.findall('[a-z]+', i)\n",
    "        new_list = []\n",
    "        for j in bag_of_words:\n",
    "            if j in x:\n",
    "                new_list.append(1)\n",
    "            else:\n",
    "                new_list.append(0)\n",
    "        term_freq.append(new_list)     \n",
    "    \n",
    "    \n",
    "     #Now return your output as an object\n",
    "    return {\n",
    "        \"bag_of_words\": bag_of_words,\n",
    "        \"term_freq\": term_freq\n",
    "    }\n",
    "get_bow_from_docs(docs)"
   ]
  },
  {
   "cell_type": "markdown",
   "metadata": {},
   "source": [
    "Test your function without stop words. You should see the output like below:\n",
    "\n",
    "```{'bag_of_words': ['ironhack', 'is', 'cool', 'i', 'love', 'am', 'a', 'student', 'at'], 'term_freq': [[1, 1, 1, 0, 0, 0, 0, 0, 0], [1, 0, 0, 1, 1, 0, 0, 0, 0], [1, 0, 0, 1, 0, 1, 1, 1, 1]]}```"
   ]
  },
  {
   "cell_type": "code",
   "execution_count": 2,
   "metadata": {},
   "outputs": [
    {
     "name": "stdout",
     "output_type": "stream",
     "text": [
      "{'bag_of_words': ['ironhack', 'is', 'cool', 'am', 'a', 'student', 'at', 'love'], 'term_freq': [[1, 1, 1, 0, 0, 0, 0, 0], [1, 0, 0, 1, 1, 1, 1, 0], [1, 0, 0, 0, 0, 0, 0, 1]]}\n"
     ]
    }
   ],
   "source": [
    "# Define doc paths array\n",
    "#path = os.getcwd()\n",
    "#docs = [f for f in os.listdir(path) if f.endswith('.txt')]\n",
    "\n",
    "#docs = [f for f in os.listdir('../your-code') if f.endswith('.txt')]\n",
    "#open(os.path.join('', \"r\").read()\n",
    "#print(docs)\n",
    "\n",
    "'''\n",
    "L.S. Correct, although the output differ a bit. \n",
    "'''\n",
    "\n",
    "# Obtain BoW from your function\n",
    "bow = get_bow_from_docs(docs)\n",
    "\n",
    "# Print BoW\n",
    "print(bow)"
   ]
  },
  {
   "cell_type": "markdown",
   "metadata": {},
   "source": [
    "If your attempt above is successful, nice work done!\n",
    "\n",
    "Now test your function again with the stop words. In the previous lab we defined the stop words in a large array. In this lab, we'll import the stop words from Scikit-Learn."
   ]
  },
  {
   "cell_type": "code",
   "execution_count": 5,
   "metadata": {},
   "outputs": [
    {
     "name": "stdout",
     "output_type": "stream",
     "text": [
      "frozenset({'becomes', 'in', 'although', 'seeming', 'except', 'therefore', 'together', 'noone', 'side', 'thereafter', 'through', 'whether', 'anything', 'un', 'could', 'formerly', 'enough', 'has', 'across', 'cannot', 'these', 'he', 'top', 'off', 'whom', 'along', 'yours', 'latter', 'amount', 'anyhow', 'fifteen', 'sincere', 'moreover', 'meanwhile', 'should', 'him', 'take', 'becoming', 'hundred', 'per', 'herself', 'everything', 'name', 'someone', 'upon', 'whereupon', 'can', 'interest', 'about', 'de', 'must', 'hereafter', 'who', 'do', 'whoever', 'without', 'from', 'anywhere', 'often', 'amongst', 'nine', 'you', 'nothing', 'anyone', 'sometime', 'forty', 'serious', 'were', 'first', 'hereby', 'please', 'their', 'twenty', 'so', 'via', 'due', 'indeed', 'whence', 'it', 'me', 'ever', 'found', 'never', 'once', 'under', 'beyond', 'least', 'thus', 'too', 'no', 'one', 'move', 'over', 'behind', 'get', 'that', 'detail', 'around', 'full', 'those', 'up', 'at', 'hers', 'an', 'mostly', 'same', 'five', 'con', 'nor', 'very', 'she', 'himself', 'somehow', 'something', 'sometimes', 'the', 'there', 'and', 'ie', 'beside', 'nobody', 'to', 'until', 'whither', 'nowhere', 'toward', 'between', 'whole', 'out', 'his', 'next', 'yourselves', 'wherein', 'throughout', 'besides', 'or', 'which', 'why', 'became', 'onto', 'where', 'much', 'whatever', 'not', 'yourself', 'us', 'six', 'always', 'down', 'third', 'within', 'thick', 'eleven', 'anyway', 'both', 'before', 'hence', 'otherwise', 'with', 'each', 'inc', 'give', 'mill', 'three', 'neither', 'thru', 'go', 'also', 'here', 'eight', 'every', 'keep', 'into', 'its', 'ltd', 'of', 'any', 'because', 'by', 'twelve', 'everywhere', 'while', 'our', 'but', 'thence', 'whereby', 'back', 'been', 'they', 'either', 're', 'sixty', 'system', 'might', 'we', 'whereas', 'latterly', 'during', 'eg', 'etc', 'former', 'above', 'had', 'most', 'nevertheless', 'cry', 'seems', 'being', 'whereafter', 'after', 'already', 'other', 'wherever', 'beforehand', 'almost', 'else', 'ourselves', 'four', 'bottom', 'themselves', 'such', 'therein', 'well', 'alone', 'when', 'then', 'whenever', 'amoungst', 'namely', 'now', 'thereupon', 'though', 'hasnt', 'be', 'show', 'everyone', 'are', 'thereby', 'none', 'all', 'itself', 'further', 'towards', 'call', 'what', 'afterwards', 'since', 'few', 'below', 'ours', 'as', 'describe', 'how', 'however', 'co', 'a', 'empty', 'mine', 'cant', 'myself', 'among', 'thin', 'two', 'yet', 'last', 'than', 'hereupon', 'them', 'more', 'fire', 'somewhere', 'would', 'many', 'my', 'find', 'fill', 'perhaps', 'if', 'see', 'less', 'several', 'couldnt', 'fifty', 'done', 'only', 'another', 'again', 'on', 'still', 'may', 'seem', 'others', 'is', 'front', 'own', 'rather', 'for', 'whose', 'seemed', 'become', 'made', 'put', 'have', 'i', 'will', 'part', 'this', 'ten', 'am', 'her', 'herein', 'against', 'your', 'was', 'elsewhere', 'even', 'some', 'bill'})\n"
     ]
    }
   ],
   "source": [
    "from sklearn.feature_extraction import stop_words\n",
    "print(stop_words.ENGLISH_STOP_WORDS)"
   ]
  },
  {
   "cell_type": "markdown",
   "metadata": {},
   "source": [
    "You should have seen a large list of words that looks like:\n",
    "\n",
    "```frozenset({'across', 'mine', 'cannot', ...})```\n",
    "\n",
    "`frozenset` is a type of Python object that is immutable. In this lab you can use it just like an array without conversion."
   ]
  },
  {
   "cell_type": "markdown",
   "metadata": {},
   "source": [
    "Next, test your function with supplying `stop_words.ENGLISH_STOP_WORDS` as the second parameter."
   ]
  },
  {
   "cell_type": "code",
   "execution_count": 6,
   "metadata": {},
   "outputs": [
    {
     "name": "stdout",
     "output_type": "stream",
     "text": [
      "{'bag_of_words': ['ironhack', 'cool', 'student', 'love'], 'term_freq': [[1, 1, 0, 0], [1, 0, 1, 0], [1, 0, 0, 1]]}\n"
     ]
    }
   ],
   "source": [
    "bow = get_bow_from_docs(docs, stop_words.ENGLISH_STOP_WORDS)\n",
    "\n",
    "print(bow)"
   ]
  },
  {
   "cell_type": "markdown",
   "metadata": {},
   "source": [
    "You should have seen:\n",
    "\n",
    "```{'bag_of_words': ['ironhack', 'cool', 'love', 'student'], 'term_freq': [[1, 1, 0, 0], [1, 0, 1, 0], [1, 0, 0, 1]]}```"
   ]
  },
  {
   "cell_type": "code",
   "execution_count": null,
   "metadata": {},
   "outputs": [],
   "source": []
  },
  {
   "cell_type": "code",
   "execution_count": null,
   "metadata": {},
   "outputs": [],
   "source": []
  }
 ],
 "metadata": {
  "kernelspec": {
   "display_name": "Python 3",
   "language": "python",
   "name": "python3"
  },
  "language_info": {
   "codemirror_mode": {
    "name": "ipython",
    "version": 3
   },
   "file_extension": ".py",
   "mimetype": "text/x-python",
   "name": "python",
   "nbconvert_exporter": "python",
   "pygments_lexer": "ipython3",
   "version": "3.6.4"
  }
 },
 "nbformat": 4,
 "nbformat_minor": 2
}
